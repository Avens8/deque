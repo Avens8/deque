{
 "cells": [
  {
   "cell_type": "code",
   "execution_count": 2,
   "metadata": {
    "collapsed": false
   },
   "outputs": [
    {
     "name": "stdout",
     "output_type": "stream",
     "text": [
      "1\n",
      "2\n",
      "Fizz\n",
      "4\n",
      "Buzz\n",
      "Fizz\n",
      "7\n",
      "8\n",
      "Fizz\n",
      "Buzz\n",
      "11\n",
      "Fizz\n",
      "13\n",
      "14\n",
      "FizzBuzz\n",
      "16\n",
      "17\n",
      "Fizz\n",
      "19\n",
      "Buzz\n",
      "Fizz\n",
      "22\n",
      "23\n",
      "Fizz\n",
      "Buzz\n",
      "26\n",
      "Fizz\n",
      "28\n",
      "29\n",
      "FizzBuzz\n",
      "31\n",
      "32\n",
      "Fizz\n",
      "34\n",
      "Buzz\n",
      "Fizz\n",
      "37\n",
      "38\n",
      "Fizz\n",
      "Buzz\n",
      "41\n",
      "Fizz\n",
      "43\n",
      "44\n",
      "FizzBuzz\n",
      "46\n",
      "47\n",
      "Fizz\n",
      "49\n",
      "Buzz\n",
      "Fizz\n",
      "52\n",
      "53\n",
      "Fizz\n",
      "Buzz\n",
      "56\n",
      "Fizz\n",
      "58\n",
      "59\n",
      "FizzBuzz\n",
      "61\n",
      "62\n",
      "Fizz\n",
      "64\n",
      "Buzz\n",
      "Fizz\n",
      "67\n",
      "68\n",
      "Fizz\n",
      "Buzz\n",
      "71\n",
      "Fizz\n",
      "73\n",
      "74\n",
      "FizzBuzz\n",
      "76\n",
      "77\n",
      "Fizz\n",
      "79\n",
      "Buzz\n",
      "Fizz\n",
      "82\n",
      "83\n",
      "Fizz\n",
      "Buzz\n",
      "86\n",
      "Fizz\n",
      "88\n",
      "89\n",
      "FizzBuzz\n",
      "91\n",
      "92\n",
      "Fizz\n",
      "94\n",
      "Buzz\n",
      "Fizz\n",
      "97\n",
      "98\n",
      "Fizz\n",
      "Buzz\n"
     ]
    }
   ],
   "source": [
    "for i in range(1,101) :\n",
    "    if i % 3 == 0 :\n",
    "        if i % 5 == 0:\n",
    "            print \"FizzBuzz\"\n",
    "        else :\n",
    "            print \"Fizz\"\n",
    "    else :\n",
    "        if i % 5 == 0:\n",
    "            print \"Buzz\"\n",
    "        else :\n",
    "            print i"
   ]
  },
  {
   "cell_type": "code",
   "execution_count": 4,
   "metadata": {
    "collapsed": false
   },
   "outputs": [
    {
     "name": "stdout",
     "output_type": "stream",
     "text": [
      "354224848179261915075\n"
     ]
    }
   ],
   "source": [
    "fib = []\n",
    "fib.append(0)\n",
    "fib.append(1)\n",
    "for i in range (2,101) :\n",
    "    fib.append(fib[i - 1] + fib[i - 2])\n",
    "print fib[100]"
   ]
  },
  {
   "cell_type": "code",
   "execution_count": 9,
   "metadata": {
    "collapsed": false
   },
   "outputs": [
    {
     "name": "stdout",
     "output_type": "stream",
     "text": [
      "324 23432 2 121 3\n",
      "[2, 3, 121, 324, 23432]\n"
     ]
    }
   ],
   "source": [
    "def qsort(L):\n",
    "    if L: return qsort([x for x in L if x<L[0]]) + [x for x in L if x ==L[0]] + qsort([x for x in L if x>L[0]])\n",
    "    return []\n",
    "l=raw_input()\n",
    "l=l.split()\n",
    "for i in range (len(l)):\n",
    "    l[i]=int(l[i])\n",
    "l=qsort(l)\n",
    "print l"
   ]
  },
  {
   "cell_type": "code",
   "execution_count": 22,
   "metadata": {
    "collapsed": false
   },
   "outputs": [
    {
     "name": "stdout",
     "output_type": "stream",
     "text": [
      "1 1000000 1000000\n",
      "1 loop, best of 3: 389 ms per loop\n",
      "1 loop, best of 3: 485 ms per loop\n",
      "The slowest run took 298.17 times longer than the fastest. This could mean that an intermediate result is being cached.\n",
      "100000 loops, best of 3: 6.86 µs per loop\n"
     ]
    }
   ],
   "source": [
    "import math\n",
    "import numpy\n",
    "def linespacel(a, b, n) :\n",
    "    l=[]\n",
    "    temp=(b-a)/(n-1)\n",
    "    for i in range (n):\n",
    "        l.append(a)\n",
    "        c=a\n",
    "        a=a+temp\n",
    "    return l\n",
    "l=[]\n",
    "m=raw_input()\n",
    "m=m.split()\n",
    "a=float(m[0])\n",
    "b=float(m[1])\n",
    "n=int(m[2])\n",
    "%timeit l=linespacel(a,b,n)\n",
    "\n",
    "%timeit l=[a+(b-a)/(n-1)*i for i in range(n)]\n",
    "%timeit l=numpy.linspace(a, b, (b-a)/(n-1))"
   ]
  },
  {
   "cell_type": "code",
   "execution_count": 37,
   "metadata": {
    "collapsed": false
   },
   "outputs": [
    {
     "name": "stdout",
     "output_type": "stream",
     "text": [
      "Populating the interactive namespace from numpy and matplotlib\n"
     ]
    },
    {
     "data": {
      "image/png": "[encoded data removed]",
      "text/plain": [
       "<matplotlib.figure.Figure at 0x1073a0250>"
      ]
     },
     "metadata": {},
     "output_type": "display_data"
    }
   ],
   "source": [
    "%pylab inline\n",
    "import math\n",
    "xmin = 1\n",
    "xmax = 5\n",
    "dx = 0.01\n",
    "xlist = mlab.frange(xmin, xmax, dx)\n",
    "ylist1 = [math.sqrt(x**2-1) for x in xlist]\n",
    "ylist2 = [math.sin(x) for x in xlist]\n",
    "ylist3 = [x**3 for x in xlist]\n",
    "pylab.subplot (121)\n",
    "pylab.plot (xlist, ylist1)\n",
    "pylab.plot (xlist, ylist2)\n",
    "pylab.plot (xlist, ylist3)\n",
    "plt.xlabel('x')\n",
    "plt.ylabel('f(x)')\n",
    "pylab.legend ( ('sqrt(x^2 - 1)', 'sin(x)', 'x^3') )\n",
    "#pylab.show()\n",
    "ylist2 = [x**(0.25) for x in xlist]\n",
    "ylist3 = [math.log(x*2 - 0.5) for x in xlist]\n",
    "pylab.subplot (122)\n",
    "pylab.plot (xlist, ylist2)\n",
    "pylab.plot (xlist, ylist3)\n",
    "pylab.savefig(\"result.png\", format='png', dpi=100)\n",
    "pylab.show()"
   ]
  },
  {
   "cell_type": "code",
   "execution_count": 38,
   "metadata": {
    "collapsed": false
   },
   "outputs": [
    {
     "name": "stdout",
     "output_type": "stream",
     "text": [
      "(array([-2.42086795+0.j        ,  0.77200956+2.11306819j,\n",
      "        0.77200956-2.11306819j,  1.51901474+0.j        ,  0.10328132+0.j        ]), array([[-0.26037609+0.j        ,  0.03282798-0.22734339j,\n",
      "         0.03282798+0.22734339j,  0.86943527+0.j        ,  0.04253628+0.j        ],\n",
      "       [-0.30544804+0.j        ,  0.19741898-0.51872694j,\n",
      "         0.19741898+0.51872694j,  0.07710784+0.j        ,  0.24047713+0.j        ],\n",
      "       [ 0.72389096+0.j        , -0.32088059-0.24884314j,\n",
      "        -0.32088059+0.24884314j, -0.03477409+0.j        ,  0.14285471+0.j        ],\n",
      "       [-0.40236136+0.j        , -0.66874012+0.j        ,\n",
      "        -0.66874012-0.j        , -0.43488335+0.j        , -0.77998550+0.j        ],\n",
      "       [-0.39114320+0.j        , -0.05212112+0.15610312j,\n",
      "        -0.05212112-0.15610312j, -0.21864108+0.j        ,  0.55819044+0.j        ]]))\n"
     ]
    }
   ],
   "source": [
    "import scipy\n",
    "import numpy as np\n",
    "A = np.random.randn(5, 5)\n",
    "print np.linalg.eig(A)"
   ]
  },
  {
   "cell_type": "code",
   "execution_count": null,
   "metadata": {
    "collapsed": true
   },
   "outputs": [],
   "source": []
  }
 ],
 "metadata": {
  "anaconda-cloud": {},
  "kernelspec": {
   "display_name": "Python [conda root]",
   "language": "python",
   "name": "conda-root-py"
  },
  "language_info": {
   "codemirror_mode": {
    "name": "ipython",
    "version": 2
   },
   "file_extension": ".py",
   "mimetype": "text/x-python",
   "name": "python",
   "nbconvert_exporter": "python",
   "pygments_lexer": "ipython2",
   "version": "2.7.12"
  }
 },
 "nbformat": 4,
 "nbformat_minor": 1
}
